{
 "cells": [
  {
   "cell_type": "code",
   "execution_count": 22,
   "metadata": {},
   "outputs": [],
   "source": [
    "turno = 'Jugador 1 (X)'\n",
    "tablero = {'1':' ','2':' ','3':' ','4':' ','5':' ','6':' ','7':' ','8':' ','9':' ',}\n",
    "def pregunta_posicion():\n",
    "    \"\"\"\n",
    "    Pregunta al jugador la posición que elige y verifica que sea una respuesta válida.\n",
    "    Devuelve la variable 'posicion' en formato str, con un número del 1 al 9.\n",
    "    \"\"\"\n",
    "    while True:\n",
    "        \n",
    "        global posicion\n",
    "\n",
    "        #Se pregunta al jugador que casilla quiere marcar\n",
    "        posicion = input('Elige tu próxima casilla (1-9): ') \n",
    "        \n",
    "        #Se comprueba que el valor introducido es un número y no un string\n",
    "        if posicion.isdigit() == False:\n",
    "            #clear_output()\n",
    "            print('No has elegido un valor correcto. Elige un número entre el 1 y el 9')\n",
    "            \n",
    "        else:\n",
    "            #Se comprueba que el número introducido está en el rango 1-9\n",
    "            if int(posicion) in range(1,10):\n",
    "                #clear_output()\n",
    "\n",
    "                #Se comprueba que la posición escogida no está ocupada\n",
    "                if tablero[posicion] != ' ':\n",
    "                    print('Esta posición está ocupada, elige otra!')\n",
    "                    continue\n",
    "                else:\n",
    "                    if turno == 'Jugador 1 (X)':\n",
    "                        tablero[posicion] = 'X'\n",
    "                        break\n",
    "                    else:\n",
    "                        tablero[posicion] = 'O'\n",
    "                        break\n",
    "            else:\n",
    "                #clear_output()\n",
    "                print('No has elegido un valor correcto. Elige un número entre el 1 y el 9')"
   ]
  },
  {
   "cell_type": "code",
   "execution_count": 19,
   "metadata": {},
   "outputs": [],
   "source": [
    "def valida_posicion_tablero():\n",
    "    \"\"\"\n",
    "    Función que valida y asigna la posición elegida por el jugador en el tablero\n",
    "    \"\"\"\n",
    "    \n",
    "    global posicion\n",
    "    \n",
    "    while tablero[posicion] != ' ':\n",
    "        \n",
    "        print('Esta posición está ocupada, elige otra!')\n",
    "        \n",
    "        posicion = pos_validar()\n",
    "    \n",
    "    if turno == 'Jugador 1 (X)':\n",
    "    \n",
    "        tablero[posicion] = 'X'\n",
    "    \n",
    "    else:\n",
    "        \n",
    "        tablero[posicion] = 'O'"
   ]
  },
  {
   "cell_type": "code",
   "execution_count": null,
   "metadata": {},
   "outputs": [],
   "source": []
  }
 ],
 "metadata": {
  "kernelspec": {
   "display_name": "Python 3",
   "language": "python",
   "name": "python3"
  },
  "language_info": {
   "codemirror_mode": {
    "name": "ipython",
    "version": 3
   },
   "file_extension": ".py",
   "mimetype": "text/x-python",
   "name": "python",
   "nbconvert_exporter": "python",
   "pygments_lexer": "ipython3",
   "version": "3.11.2"
  },
  "orig_nbformat": 4
 },
 "nbformat": 4,
 "nbformat_minor": 2
}
